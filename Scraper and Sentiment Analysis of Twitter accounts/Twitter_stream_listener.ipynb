{
 "cells": [
  {
   "cell_type": "markdown",
   "id": "outer-simple",
   "metadata": {},
   "source": [
    "## Twitter - Financial News Scraper, VADER Sentiment Analysis"
   ]
  },
  {
   "cell_type": "code",
   "execution_count": null,
   "id": "eleven-rolling",
   "metadata": {},
   "outputs": [],
   "source": [
    "from tweepy import Stream\n",
    "from tweepy import OAuthHandler\n",
    "from tweepy import StreamListener\n",
    "from vaderSentiment.vaderSentiment import SentimentIntensityAnalyzer\n",
    "import tweepy\n",
    "import json\n",
    "import ascii\n",
    "\n",
    "ckey = \"bAxTvwqfVyd3z7pvwFlkoB0dG\"\n",
    "csecret = \"tSrlAMDE7ZKFQzmm0TF1g64qZDuSVI9YWDvHz7Vf9UQqw9HiYw\"\n",
    "atoken = \"1377929314197442561-dvl1hKXLe88CNSXF8HcBxGirZyag4J\"\n",
    "asecret = \"AxvhQNEJhEfvlV4JnaKMpMYDWYJa38vM69hHbyzbHW6Iv\"\n",
    "\n",
    "analyzer = SentimentIntensityAnalyzer() # Use the VADER Sentiment Analyzer \n",
    "class mslistener(StreamListener):\n",
    "\n",
    "    def on_data(self, data):\n",
    "        try:\n",
    "            all_data = json.loads(data)\n",
    "            tweet = all_data[\"text\"]\n",
    "             \n",
    "            sentiment = analyzer.polarity_scores(tweet)['compound']\n",
    "            if sentiment > 0:\n",
    "                sentiment_value = \"pos\"\n",
    "            else:\n",
    "                sentiment_value = \"neg\"\n",
    "            print(tweet, sentiment_value)\n",
    "\n",
    "            output = open(\"twitter-currout.txt\", \"a\")\n",
    "            output.write(sentiment_value)\n",
    "            output.write('\\n')\n",
    "            output.close()\n",
    "        except:\n",
    "            pass\n",
    "        return(True)\n",
    "\n",
    "        \n",
    "    def on_error(self, status):\n",
    "        print(\"Error:\", status)\n",
    "        \n",
    "auth = OAuthHandler(ckey, csecret)\n",
    "auth.set_access_token(atoken, asecret)\n",
    "\n",
    "twitterStream = Stream(auth, listener = mslistener())\n",
    "twitterStream.filter(track=[\"oppo\"])"
   ]
  },
  {
   "cell_type": "code",
   "execution_count": null,
   "id": "continental-cable",
   "metadata": {},
   "outputs": [],
   "source": []
  }
 ],
 "metadata": {
  "kernelspec": {
   "display_name": "Python 3",
   "language": "python",
   "name": "python3"
  },
  "language_info": {
   "codemirror_mode": {
    "name": "ipython",
    "version": 3
   },
   "file_extension": ".py",
   "mimetype": "text/x-python",
   "name": "python",
   "nbconvert_exporter": "python",
   "pygments_lexer": "ipython3",
   "version": "3.7.9"
  }
 },
 "nbformat": 4,
 "nbformat_minor": 5
}
